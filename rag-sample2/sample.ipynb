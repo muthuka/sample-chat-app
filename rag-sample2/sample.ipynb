{
 "cells": [
  {
   "cell_type": "markdown",
   "metadata": {},
   "source": [
    "# 🤖 LangChain Agents & Evaluation Demo\n",
    "\n",
    "This notebook demonstrates **modern AI agent workflows** and **text evaluation metrics** using the latest LangChain 0.3.x APIs.\n",
    "\n",
    "## 📋 What You'll Learn:\n",
    "\n",
    "### 1. 📊 **Rouge Evaluation**\n",
    "- Measure text similarity between reference and generated responses\n",
    "- Understand precision, recall, and F1 scores for text generation quality\n",
    "- Essential for evaluating RAG and chatbot responses\n",
    "\n",
    "### 2. 🤖 **LangChain Agents** \n",
    "- **Legacy Approach**: Traditional `initialize_agent` (deprecated but educational)\n",
    "- **Modern Approach**: Tool binding with `ChatOpenAI` and `@tool` decorators\n",
    "- Robust error handling for API limitations and billing issues\n",
    "\n",
    "### 3. 🛠️ **Tool Integration**\n",
    "- Create custom tools for search, summarization, and other tasks\n",
    "- Learn both synchronous and asynchronous tool execution patterns\n",
    "- Understand tool descriptions and parameter validation\n",
    "\n",
    "**💡 Note**: This notebook works in demonstration mode even without OpenAI API keys, making it perfect for learning and experimentation!"
   ]
  },
  {
   "cell_type": "code",
   "execution_count": null,
   "metadata": {
    "vscode": {
     "languageId": "shellscript"
    }
   },
   "outputs": [
    {
     "name": "stdout",
     "output_type": "stream",
     "text": [
      "zsh:1: 0.3.33 not found\n",
      "Note: you may need to restart the kernel to use updated packages.\n",
      "Note: you may need to restart the kernel to use updated packages.\n"
     ]
    }
   ],
   "source": [
    "%pip install -q --upgrade rouge langchain langchain-openai \\\n",
    "        langchain-core langchain-community pydantic"
   ]
  },
  {
   "cell_type": "markdown",
   "metadata": {},
   "source": [
    "## 🔧 Environment Setup\n",
    "\n",
    "**Important**: To run the agent examples with OpenAI, you need to set your API key:\n",
    "\n",
    "```bash\n",
    "export OPENAI_API_KEY=\"your-api-key-here\"\n",
    "```\n",
    "\n",
    "Or create a `.env` file in your project root:\n",
    "```\n",
    "OPENAI_API_KEY=your-api-key-here\n",
    "```\n",
    "\n",
    "The examples below will work in demonstration mode even without an API key."
   ]
  },
  {
   "cell_type": "code",
   "execution_count": 12,
   "metadata": {},
   "outputs": [
    {
     "name": "stdout",
     "output_type": "stream",
     "text": [
      "[{'rouge-1': {'r': 0.8571428571428571, 'p': 0.8571428571428571, 'f': 0.8571428521428571}, 'rouge-2': {'r': 0.5, 'p': 0.5, 'f': 0.4999999950000001}, 'rouge-l': {'r': 0.7142857142857143, 'p': 0.7142857142857143, 'f': 0.7142857092857143}}]\n"
     ]
    }
   ],
   "source": [
    "from rouge import Rouge\n",
    "\n",
    "# Reference and generated responses\n",
    "reference = [\"Apache Airflow is a workflow orchestration tool.\"]\n",
    "generated = [\"Airflow is a tool for workflow orchestration.\"]\n",
    "\n",
    "rouge = Rouge()\n",
    "scores = rouge.get_scores(generated, reference)\n",
    "\n",
    "print(scores)"
   ]
  },
  {
   "cell_type": "code",
   "execution_count": 13,
   "metadata": {},
   "outputs": [
    {
     "name": "stdout",
     "output_type": "stream",
     "text": [
      "🤖 Creating agent with legacy approach (deprecated but functional)...\n",
      "📋 Agent created successfully!\n",
      "🔧 Tools available: ['search']\n",
      "⚡ Agent type: zero-shot-react-description\n",
      "\n",
      "💡 Note: This would normally call OpenAI API, but we're showing structure instead.\n"
     ]
    }
   ],
   "source": [
    "import os\n",
    "from langchain.agents import initialize_agent, Tool\n",
    "from langchain_openai import OpenAI\n",
    "\n",
    "# Check if API key is available\n",
    "if not os.getenv(\"OPENAI_API_KEY\"):\n",
    "    print(\"⚠️  OpenAI API key not found. Setting a placeholder for demonstration.\")\n",
    "    os.environ[\"OPENAI_API_KEY\"] = \"sk-placeholder-key\"\n",
    "\n",
    "# Define tools\n",
    "def search_tool(query):\n",
    "    # Simulate a search tool\n",
    "    return f\"Search results for: {query}\"\n",
    "\n",
    "tools = [\n",
    "    Tool(name=\"search\", func=search_tool, description=\"Performs a web search.\")\n",
    "]\n",
    "\n",
    "try:\n",
    "    # Initialize the LLM (using a mock approach if no valid API key)\n",
    "    llm = OpenAI(model=\"gpt-3.5-turbo-instruct\", openai_api_key=\"sk-placeholder\")\n",
    "    \n",
    "    print(\"🤖 Creating agent with legacy approach (deprecated but functional)...\")\n",
    "    # Create an agent\n",
    "    agent = initialize_agent(\n",
    "        tools, llm, agent=\"zero-shot-react-description\", verbose=True)\n",
    "    \n",
    "    # Instead of calling OpenAI API, let's demonstrate the structure\n",
    "    print(\"📋 Agent created successfully!\")\n",
    "    print(\"🔧 Tools available:\", [tool.name for tool in tools])\n",
    "    print(\"⚡ Agent type: zero-shot-react-description\")\n",
    "    print(\"\\n💡 Note: This would normally call OpenAI API, but we're showing structure instead.\")\n",
    "    \n",
    "except Exception as e:\n",
    "    print(f\"❌ Error creating agent: {e}\")\n",
    "    print(\"💡 This is likely due to API key issues. See the modern approach below for better error handling.\")"
   ]
  },
  {
   "cell_type": "markdown",
   "metadata": {},
   "source": [
    "#### Modern LangGraph Agent Approach (Recommended)\n",
    "Using the new LangGraph for more robust agent workflows."
   ]
  },
  {
   "cell_type": "code",
   "execution_count": 14,
   "metadata": {},
   "outputs": [
    {
     "name": "stdout",
     "output_type": "stream",
     "text": [
      "🤖 Processing query: Find the latest news about AI and summarize it.\n",
      "⚡ Using modern LangChain tool binding...\n",
      "❌ Error with OpenAI API: Error code: 429 - {'error': {'message': 'Your account is not active, please check your billing details on our website.', 'type': 'billing_not_active', 'param': None, 'code': 'billing_not_active'}}\n",
      "💡 This might be due to API limits, billing, or network issues.\n",
      "🔄 Falling back to tool demonstration mode...\n",
      "\n",
      "🔍 Demo Search: 🔍 Search results for 'latest AI news':\n",
      "1. AI advances in 2024 show remarkable progress\n",
      "2. New machine learning breakthroughs announced\n",
      "3. Industry reports on AI adoption trends\n",
      "📄 Demo Summary: 📄 Summary: 🔍 Search results for 'latest AI news':\n",
      "1. AI advances in 2024 show remarkable progress\n",
      "2. New machin... (Key insights: Latest AI developments show continued innovation)\n",
      "\n",
      "✅ Modern agent demonstration complete!\n",
      "💡 In production, consider using LangGraph for more complex agent workflows.\n",
      "❌ Error with OpenAI API: Error code: 429 - {'error': {'message': 'Your account is not active, please check your billing details on our website.', 'type': 'billing_not_active', 'param': None, 'code': 'billing_not_active'}}\n",
      "💡 This might be due to API limits, billing, or network issues.\n",
      "🔄 Falling back to tool demonstration mode...\n",
      "\n",
      "🔍 Demo Search: 🔍 Search results for 'latest AI news':\n",
      "1. AI advances in 2024 show remarkable progress\n",
      "2. New machine learning breakthroughs announced\n",
      "3. Industry reports on AI adoption trends\n",
      "📄 Demo Summary: 📄 Summary: 🔍 Search results for 'latest AI news':\n",
      "1. AI advances in 2024 show remarkable progress\n",
      "2. New machin... (Key insights: Latest AI developments show continued innovation)\n",
      "\n",
      "✅ Modern agent demonstration complete!\n",
      "💡 In production, consider using LangGraph for more complex agent workflows.\n"
     ]
    }
   ],
   "source": [
    "import os\n",
    "from langchain_core.tools import tool\n",
    "from langchain_openai import ChatOpenAI\n",
    "from langchain_core.messages import HumanMessage\n",
    "\n",
    "@tool\n",
    "def search_tool(query: str) -> str:\n",
    "    \"\"\"Performs a web search and returns results.\"\"\"\n",
    "    # Simulate a search tool with more realistic response\n",
    "    return f\"🔍 Search results for '{query}':\\n1. AI advances in 2024 show remarkable progress\\n2. New machine learning breakthroughs announced\\n3. Industry reports on AI adoption trends\"\n",
    "\n",
    "@tool  \n",
    "def summarize_tool(text: str) -> str:\n",
    "    \"\"\"Summarizes the given text.\"\"\"\n",
    "    return f\"📄 Summary: {text[:100]}... (Key insights: Latest AI developments show continued innovation)\"\n",
    "\n",
    "# Check for API key\n",
    "api_key = os.getenv(\"OPENAI_API_KEY\")\n",
    "if not api_key or api_key == \"sk-placeholder-key\":\n",
    "    print(\"⚠️  No valid OpenAI API key found.\")\n",
    "    print(\"🔧 Demonstrating tool structure without API calls...\")\n",
    "    \n",
    "    # Show how tools work without API\n",
    "    tools = [search_tool, summarize_tool]\n",
    "    \n",
    "    print(\"\\n🛠️  Available Tools:\")\n",
    "    for tool in tools:\n",
    "        print(f\"  • {tool.name}: {tool.description}\")\n",
    "    \n",
    "    # Demonstrate tool usage\n",
    "    query = \"Find the latest news about AI and summarize it\"\n",
    "    print(f\"\\n📝 Query: {query}\")\n",
    "    \n",
    "    # Simulate tool calls\n",
    "    search_result = search_tool.invoke({\"query\": \"latest AI news\"})\n",
    "    print(f\"\\n🔍 Search Tool Result:\\n{search_result}\")\n",
    "    \n",
    "    summary_result = summarize_tool.invoke({\"text\": search_result})\n",
    "    print(f\"\\n📄 Summary Tool Result:\\n{summary_result}\")\n",
    "    \n",
    "else:\n",
    "    try:\n",
    "        # Initialize the LLM with modern approach\n",
    "        llm = ChatOpenAI(model=\"gpt-3.5-turbo\", temperature=0.7)\n",
    "        \n",
    "        # Tools list\n",
    "        tools = [search_tool, summarize_tool]\n",
    "        \n",
    "        # Bind tools to the model (modern approach)\n",
    "        llm_with_tools = llm.bind_tools(tools)\n",
    "        \n",
    "        # Make a query\n",
    "        query = \"Find the latest news about AI and summarize it.\"\n",
    "        messages = [HumanMessage(content=query)]\n",
    "        \n",
    "        print(f\"🤖 Processing query: {query}\")\n",
    "        print(\"⚡ Using modern LangChain tool binding...\")\n",
    "        \n",
    "        # Get response with tool calls\n",
    "        response = llm_with_tools.invoke(messages)\n",
    "        print(f\"\\n🧠 LLM Response: {response.content}\")\n",
    "        \n",
    "        # Check if there are tool calls\n",
    "        if hasattr(response, 'tool_calls') and response.tool_calls:\n",
    "            print(f\"\\n🔧 Tool calls detected: {len(response.tool_calls)}\")\n",
    "            for i, tool_call in enumerate(response.tool_calls, 1):\n",
    "                print(f\"\\n  {i}. Tool: {tool_call['name']}\")\n",
    "                print(f\"     Args: {tool_call['args']}\")\n",
    "                \n",
    "                # Execute the appropriate tool\n",
    "                if tool_call['name'] == 'search_tool':\n",
    "                    result = search_tool.invoke(tool_call['args'])\n",
    "                    print(f\"     Result: {result}\")\n",
    "                elif tool_call['name'] == 'summarize_tool':\n",
    "                    result = summarize_tool.invoke(tool_call['args'])\n",
    "                    print(f\"     Result: {result}\")\n",
    "        else:\n",
    "            print(\"\\n💭 No tools were called - LLM provided direct response\")\n",
    "            \n",
    "    except Exception as e:\n",
    "        print(f\"❌ Error with OpenAI API: {e}\")\n",
    "        print(\"💡 This might be due to API limits, billing, or network issues.\")\n",
    "        print(\"🔄 Falling back to tool demonstration mode...\")\n",
    "        \n",
    "        # Fallback to demonstration mode\n",
    "        search_result = search_tool.invoke({\"query\": \"latest AI news\"})\n",
    "        summary_result = summarize_tool.invoke({\"text\": search_result})\n",
    "        print(f\"\\n🔍 Demo Search: {search_result}\")\n",
    "        print(f\"📄 Demo Summary: {summary_result}\")\n",
    "\n",
    "print(\"\\n✅ Modern agent demonstration complete!\")\n",
    "print(\"💡 In production, consider using LangGraph for more complex agent workflows.\")"
   ]
  },
  {
   "cell_type": "code",
   "execution_count": 15,
   "metadata": {},
   "outputs": [
    {
     "ename": "SyntaxError",
     "evalue": "invalid character '📊' (U+1F4CA) (1719078068.py, line 5)",
     "output_type": "error",
     "traceback": [
      "  \u001b[36mCell\u001b[39m\u001b[36m \u001b[39m\u001b[32mIn[15]\u001b[39m\u001b[32m, line 5\u001b[39m\n\u001b[31m    \u001b[39m\u001b[31m1. **📊 Rouge Evaluation**: Measuring text similarity between reference and generated responses\u001b[39m\n         ^\n\u001b[31mSyntaxError\u001b[39m\u001b[31m:\u001b[39m invalid character '📊' (U+1F4CA)\n"
     ]
    }
   ],
   "source": [
    "## 🎯 Summary\n",
    "\n",
    "This notebook demonstrates:\n",
    "\n",
    "1. **📊 Rouge Evaluation**: Measuring text similarity between reference and generated responses\n",
    "2. **🤖 Legacy Agents**: Traditional LangChain agent approach (deprecated but educational)  \n",
    "3. **⚡ Modern Tool Binding**: Current best practices with error handling and fallbacks\n",
    "4. **🛠️ Robust Implementation**: Works even without valid API keys for learning purposes\n",
    "\n",
    "### 🚀 Next Steps for Production:\n",
    "\n",
    "- Set up proper OpenAI API keys and billing\n",
    "- Consider **LangGraph** for complex multi-agent workflows  \n",
    "- Implement **persistent memory** for longer conversations\n",
    "- Add **custom tools** for your specific use case\n",
    "- Use **streaming** for real-time responses\n",
    "\n",
    "### 📚 Learn More:\n",
    "\n",
    "- [LangChain Agent Documentation](https://python.langchain.com/docs/modules/agents/)\n",
    "- [LangGraph for Advanced Workflows](https://langchain-ai.github.io/langgraph/)\n",
    "- [Tool Creation Guide](https://python.langchain.com/docs/modules/tools/)"
   ]
  }
 ],
 "metadata": {
  "kernelspec": {
   "display_name": ".venv (3.12.6)",
   "language": "python",
   "name": "python3"
  },
  "language_info": {
   "codemirror_mode": {
    "name": "ipython",
    "version": 3
   },
   "file_extension": ".py",
   "mimetype": "text/x-python",
   "name": "python",
   "nbconvert_exporter": "python",
   "pygments_lexer": "ipython3",
   "version": "3.12.6"
  }
 },
 "nbformat": 4,
 "nbformat_minor": 2
}
